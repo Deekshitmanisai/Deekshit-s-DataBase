{
  "nbformat": 4,
  "nbformat_minor": 0,
  "metadata": {
    "colab": {
      "provenance": [],
      "authorship_tag": "ABX9TyPMvgZUbra7CokTXxs2GeFz",
      "include_colab_link": true
    },
    "kernelspec": {
      "name": "python3",
      "display_name": "Python 3"
    },
    "language_info": {
      "name": "python"
    }
  },
  "cells": [
    {
      "cell_type": "markdown",
      "metadata": {
        "id": "view-in-github",
        "colab_type": "text"
      },
      "source": [
        "<a href=\"https://colab.research.google.com/github/Deekshitmanisai/Deekshit-s-DataBase/blob/main/ML_Simple_Regression_Q2.ipynb\" target=\"_parent\"><img src=\"https://colab.research.google.com/assets/colab-badge.svg\" alt=\"Open In Colab\"/></a>"
      ]
    },
    {
      "cell_type": "code",
      "execution_count": 1,
      "metadata": {
        "id": "-Y5Eg5T8n8r0"
      },
      "outputs": [],
      "source": [
        "\n",
        "\n",
        "import numpy as np\n",
        "import pandas as pd\n",
        "from sklearn.model_selection import train_test_split\n",
        "from sklearn.preprocessing import StandardScaler\n",
        "import matplotlib.pyplot as plt"
      ]
    },
    {
      "cell_type": "code",
      "source": [
        "data_url = \"http://lib.stat.cmu.edu/datasets/boston\"\n",
        "raw_df = pd.read_csv(data_url, sep=\"\\s+\", skiprows=22, header=None)\n",
        "data = np.hstack([raw_df.values[::2, :], raw_df.values[1::2, :2]])\n",
        "target = raw_df.values[1::2, 2]\n"
      ],
      "metadata": {
        "id": "v8BQIshxoYJ8"
      },
      "execution_count": 2,
      "outputs": []
    },
    {
      "cell_type": "code",
      "source": [
        "df = pd.DataFrame(data=data, columns=['CRIM', 'ZN', 'INDUS', 'CHAS', 'NOX', 'RM', 'AGE', 'DIS', 'RAD', 'TAX', 'PTRATIO', 'B', 'LSTAT'])\n",
        "df['PRICE'] = target"
      ],
      "metadata": {
        "id": "9W0RRxCaoYMZ"
      },
      "execution_count": 3,
      "outputs": []
    },
    {
      "cell_type": "code",
      "source": [
        "\n",
        "correlation_matrix = df.corr()\n",
        "print(\"Correlation Matrix:\\n\", correlation_matrix['PRICE'])"
      ],
      "metadata": {
        "colab": {
          "base_uri": "https://localhost:8080/"
        },
        "id": "X4jvepV-oYPI",
        "outputId": "6f282d83-57fd-4d04-a2e7-e13c75b14f61"
      },
      "execution_count": 4,
      "outputs": [
        {
          "output_type": "stream",
          "name": "stdout",
          "text": [
            "Correlation Matrix:\n",
            " CRIM      -0.388305\n",
            "ZN         0.360445\n",
            "INDUS     -0.483725\n",
            "CHAS       0.175260\n",
            "NOX       -0.427321\n",
            "RM         0.695360\n",
            "AGE       -0.376955\n",
            "DIS        0.249929\n",
            "RAD       -0.381626\n",
            "TAX       -0.468536\n",
            "PTRATIO   -0.507787\n",
            "B          0.333461\n",
            "LSTAT     -0.737663\n",
            "PRICE      1.000000\n",
            "Name: PRICE, dtype: float64\n"
          ]
        }
      ]
    },
    {
      "cell_type": "code",
      "source": [
        "best_attribute = correlation_matrix['PRICE'].idxmax(axis=0)\n",
        "print(f\"The attribute with the highest correlation with PRICE is: {best_attribute}\")\n"
      ],
      "metadata": {
        "colab": {
          "base_uri": "https://localhost:8080/"
        },
        "id": "FrbciXZioYRf",
        "outputId": "2f048773-b3f2-4e15-f656-fd0de8851aa7"
      },
      "execution_count": 5,
      "outputs": [
        {
          "output_type": "stream",
          "name": "stdout",
          "text": [
            "The attribute with the highest correlation with PRICE is: PRICE\n"
          ]
        }
      ]
    },
    {
      "cell_type": "code",
      "source": [
        "X = df[[best_attribute]].values\n",
        "y = df['PRICE'].values\n",
        "X_train, X_test, y_train, y_test = train_test_split(X, y, test_size=0.4, random_state=1)"
      ],
      "metadata": {
        "id": "jgyJAUKyoYT1"
      },
      "execution_count": 6,
      "outputs": []
    },
    {
      "cell_type": "code",
      "source": [
        "scaler = StandardScaler()\n",
        "X_train_scaled = scaler.fit_transform(X_train)\n",
        "X_test_scaled = scaler.transform(X_test)\n",
        "\n"
      ],
      "metadata": {
        "id": "cOmGjHK2oYWN"
      },
      "execution_count": 7,
      "outputs": []
    },
    {
      "cell_type": "code",
      "source": [
        "X_train_mean = np.mean(X_train_scaled)\n",
        "y_train_mean = np.mean(y_train)\n"
      ],
      "metadata": {
        "id": "8h-Kt9B9oYbO"
      },
      "execution_count": 8,
      "outputs": []
    },
    {
      "cell_type": "code",
      "source": [
        "numerator = np.sum((X_train_scaled - X_train_mean) * (y_train - y_train_mean))\n",
        "denominator = np.sum((X_train_scaled - X_train_mean) ** 2)\n",
        "beta_1_analytic = numerator / denominator\n",
        "beta_0_analytic = y_train_mean - beta_1_analytic * X_train_mean"
      ],
      "metadata": {
        "id": "YOKvA0G2oYdz"
      },
      "execution_count": 9,
      "outputs": []
    },
    {
      "cell_type": "code",
      "source": [
        "y_pred_analytic = beta_0_analytic + beta_1_analytic * X_test_scaled"
      ],
      "metadata": {
        "id": "Eho11bAdoYgk"
      },
      "execution_count": 10,
      "outputs": []
    },
    {
      "cell_type": "code",
      "source": [
        "\n",
        "SSE_analytic = np.sum((y_test - y_pred_analytic) ** 2)\n",
        "SST = np.sum((y_test - np.mean(y_test)) ** 2)\n",
        "R2_analytic = 1 - SSE_analytic / SST"
      ],
      "metadata": {
        "id": "5CYyInKfoYjA"
      },
      "execution_count": 11,
      "outputs": []
    },
    {
      "cell_type": "code",
      "source": [
        "print(\"Analytic Solution:\")\n",
        "print(f\"Beta 0 (Intercept): {beta_0_analytic}\")\n",
        "print(f\"Beta 1 (Slope): {beta_1_analytic}\")\n",
        "print(f\"SSE: {SSE_analytic}\")\n",
        "print(f\"R^2: {R2_analytic}\")"
      ],
      "metadata": {
        "colab": {
          "base_uri": "https://localhost:8080/"
        },
        "id": "MeFLEXYpoYlj",
        "outputId": "f9c31047-ca4e-4dcd-909c-0f0fe171486e"
      },
      "execution_count": 12,
      "outputs": [
        {
          "output_type": "stream",
          "name": "stdout",
          "text": [
            "Analytic Solution:\n",
            "Beta 0 (Intercept): 22.112541254125414\n",
            "Beta 1 (Slope): 2.743679870756823e-15\n",
            "SSE: 3766919.597054973\n",
            "R^2: -204.4666217372155\n"
          ]
        }
      ]
    },
    {
      "cell_type": "code",
      "source": [
        "beta_0_gd = 0\n",
        "beta_1_gd = 0\n",
        "alpha = 0.001\n",
        "epochs = 1000"
      ],
      "metadata": {
        "id": "aC0bcH-eoYoB"
      },
      "execution_count": 13,
      "outputs": []
    },
    {
      "cell_type": "code",
      "source": [
        "for epoch in range(epochs):\n",
        "    y_pred_gd = beta_0_gd + beta_1_gd * X_train_scaled\n",
        "    error = y_pred_gd - y_train\n",
        "    beta_0_gd -= alpha * (1/len(y_train)) * np.sum(error)\n",
        "    beta_1_gd -= alpha * (1/len(y_train)) * np.sum(error * X_train_scaled)"
      ],
      "metadata": {
        "id": "Y4Cu58SnoYre"
      },
      "execution_count": 14,
      "outputs": []
    },
    {
      "cell_type": "code",
      "source": [
        "\n",
        "y_pred_gd_test = beta_0_gd + beta_1_gd * X_test_scaled\n"
      ],
      "metadata": {
        "id": "7yep65jTpAAq"
      },
      "execution_count": 15,
      "outputs": []
    },
    {
      "cell_type": "code",
      "source": [
        "SSE_gd = np.sum((y_test - y_pred_gd_test) ** 2)\n",
        "R2_gd = 1 - SSE_gd / SST\n"
      ],
      "metadata": {
        "id": "_IgSp6hIpADR"
      },
      "execution_count": 16,
      "outputs": []
    },
    {
      "cell_type": "code",
      "source": [
        "print(\"\\nGradient Descent Solution:\")\n",
        "print(f\"Beta 0 (Intercept): {beta_0_gd}\")\n",
        "print(f\"Beta 1 (Slope): {beta_1_gd}\")\n",
        "print(f\"SSE: {SSE_gd}\")\n",
        "print(f\"R^2: {R2_gd}\")"
      ],
      "metadata": {
        "colab": {
          "base_uri": "https://localhost:8080/"
        },
        "id": "tf4fD9PApAF2",
        "outputId": "076a743a-9338-4dfa-e26d-26589d30657e"
      },
      "execution_count": 17,
      "outputs": [
        {
          "output_type": "stream",
          "name": "stdout",
          "text": [
            "\n",
            "Gradient Descent Solution:\n",
            "Beta 0 (Intercept): 22.112541254125407\n",
            "Beta 1 (Slope): -5.076980273665129e-16\n",
            "SSE: 3766919.597054973\n",
            "R^2: -204.4666217372155\n"
          ]
        }
      ]
    },
    {
      "cell_type": "code",
      "source": [
        "plt.scatter(X_test_scaled, y_test, color='blue', label='Test Data')\n",
        "plt.plot(X_test_scaled, y_pred_analytic, color='red', label='Analytic Solution')\n",
        "plt.plot(X_test_scaled, y_pred_gd_test, color='green', linestyle='--', label='Gradient Descent Solution')\n",
        "plt.xlabel(best_attribute)\n",
        "plt.ylabel('PRICE')\n",
        "plt.legend()\n",
        "plt.show()\n"
      ],
      "metadata": {
        "colab": {
          "base_uri": "https://localhost:8080/",
          "height": 449
        },
        "id": "3EZiC71ApAIR",
        "outputId": "00529a25-22a9-4366-c760-b5e6471f8c61"
      },
      "execution_count": 18,
      "outputs": [
        {
          "output_type": "display_data",
          "data": {
            "text/plain": [
              "<Figure size 640x480 with 1 Axes>"
            ],
            "image/png": "[encoded data removed]"
          },
          "metadata": {}
        }
      ]
    },
    {
      "cell_type": "code",
      "source": [],
      "metadata": {
        "id": "i8tdmaVspAKn"
      },
      "execution_count": null,
      "outputs": []
    },
    {
      "cell_type": "code",
      "source": [],
      "metadata": {
        "id": "WOzxLLBqpAOQ"
      },
      "execution_count": null,
      "outputs": []
    }
  ]
}