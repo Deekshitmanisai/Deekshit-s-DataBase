{
  "nbformat": 4,
  "nbformat_minor": 0,
  "metadata": {
    "colab": {
      "provenance": [],
      "name": "ML-Simple-Regression-Q1",
      "authorship_tag": "ABX9TyN0TRtvwlzI7g51iZCBVu0u",
      "include_colab_link": true
    },
    "kernelspec": {
      "name": "python3",
      "display_name": "Python 3"
    },
    "language_info": {
      "name": "python"
    }
  },
  "cells": [
    {
      "cell_type": "markdown",
      "metadata": {
        "id": "view-in-github",
        "colab_type": "text"
      },
      "source": [
        "<a href=\"https://colab.research.google.com/github/Deekshitmanisai/Deekshit-s-DataBase/blob/main/ML_Simple_Regression_Q1.ipynb\" target=\"_parent\"><img src=\"https://colab.research.google.com/assets/colab-badge.svg\" alt=\"Open In Colab\"/></a>"
      ]
    },
    {
      "cell_type": "code",
      "source": [
        "import numpy as np\n",
        "import matplotlib.pyplot as plt\n"
      ],
      "metadata": {
        "id": "2LHQhxG8fog8"
      },
      "execution_count": null,
      "outputs": []
    },
    {
      "cell_type": "code",
      "source": [
        "x = np.array([0, 1, 2, 3, 4, 5, 6, 7, 8, 9])\n",
        "y = np.array([1, 3, 2, 5, 7, 8, 8, 9, 10, 12])\n"
      ],
      "metadata": {
        "id": "nO-KMr27fssC"
      },
      "execution_count": null,
      "outputs": []
    },
    {
      "cell_type": "code",
      "source": [
        "N = len(x)\n",
        "x_mean = np.mean(x)\n",
        "y_mean = np.mean(y)"
      ],
      "metadata": {
        "id": "ZBjH2ss8fsvB"
      },
      "execution_count": null,
      "outputs": []
    },
    {
      "cell_type": "code",
      "source": [
        "numerator = np.sum((x - x_mean) * (y - y_mean))\n",
        "denominator = np.sum((x - x_mean) ** 2)\n",
        "beta_1 = numerator / denominator\n",
        "beta_0 = y_mean - beta_1 * x_mean\n"
      ],
      "metadata": {
        "id": "dSxgLG7tfsxT"
      },
      "execution_count": null,
      "outputs": []
    },
    {
      "cell_type": "code",
      "source": [
        "\n",
        "y_pred = beta_0 + beta_1 * x"
      ],
      "metadata": {
        "id": "VMvyKkEifszz"
      },
      "execution_count": null,
      "outputs": []
    },
    {
      "cell_type": "code",
      "source": [
        "\n",
        "SSE = np.sum((y - y_pred) ** 2)"
      ],
      "metadata": {
        "id": "0DCjBfc8fs2o"
      },
      "execution_count": null,
      "outputs": []
    },
    {
      "cell_type": "code",
      "source": [
        "SST = np.sum((y - y_mean) ** 2)\n",
        "R2 = 1 - SSE / SST\n"
      ],
      "metadata": {
        "id": "hgdrDg-kfs5Z"
      },
      "execution_count": null,
      "outputs": []
    },
    {
      "cell_type": "code",
      "source": [
        "print(\"Analytic Solution:\")\n",
        "print(f\"Beta 0 (Intercept): {beta_0}\")\n",
        "print(f\"Beta 1 (Slope): {beta_1}\")\n",
        "print(f\"SSE: {SSE}\")\n",
        "print(f\"R^2: {R2}\")\n"
      ],
      "metadata": {
        "colab": {
          "base_uri": "https://localhost:8080/"
        },
        "id": "CBqLhgEpfs79",
        "outputId": "57cc0fc1-53e8-4f13-d762-370cda14194c"
      },
      "execution_count": null,
      "outputs": [
        {
          "output_type": "stream",
          "name": "stdout",
          "text": [
            "Analytic Solution:\n",
            "Beta 0 (Intercept): 1.2363636363636363\n",
            "Beta 1 (Slope): 1.1696969696969697\n",
            "SSE: 5.624242424242423\n",
            "R^2: 0.952538038613988\n"
          ]
        }
      ]
    },
    {
      "cell_type": "code",
      "source": [
        "beta_0_gd = 0\n",
        "beta_1_gd = 0\n",
        "alpha = 0.01\n",
        "epochs = 1000\n"
      ],
      "metadata": {
        "id": "vh9KYPQhfs_E"
      },
      "execution_count": null,
      "outputs": []
    },
    {
      "cell_type": "code",
      "source": [
        "for epoch in range(epochs):\n",
        "    y_pred_gd = beta_0_gd + beta_1_gd * x\n",
        "    error = y_pred_gd - y\n",
        "    beta_0_gd -= alpha * (1/N) * np.sum(error)\n",
        "    beta_1_gd -= alpha * (1/N) * np.sum(error * x)"
      ],
      "metadata": {
        "id": "Et83qseAf8IS"
      },
      "execution_count": null,
      "outputs": []
    },
    {
      "cell_type": "code",
      "source": [
        "SSE_gd = np.sum((y - y_pred_gd) ** 2)\n",
        "R2_gd = 1 - SSE_gd / SST"
      ],
      "metadata": {
        "id": "LL0SJUvBf8Kp"
      },
      "execution_count": null,
      "outputs": []
    },
    {
      "cell_type": "code",
      "source": [
        "print(\"\\nGradient Descent Solution:\")\n",
        "print(f\"Beta 0 (Intercept): {beta_0_gd}\")\n",
        "print(f\"Beta 1 (Slope): {beta_1_gd}\")\n",
        "print(f\"SSE: {SSE_gd}\")\n",
        "print(f\"R^2: {R2_gd}\")"
      ],
      "metadata": {
        "colab": {
          "base_uri": "https://localhost:8080/"
        },
        "id": "dFkreAR5f8NY",
        "outputId": "24e29025-2a4f-4d29-9dce-5acdaabb9d03"
      },
      "execution_count": null,
      "outputs": [
        {
          "output_type": "stream",
          "name": "stdout",
          "text": [
            "\n",
            "Gradient Descent Solution:\n",
            "Beta 0 (Intercept): 1.175803611388339\n",
            "Beta 1 (Slope): 1.1793547634798334\n",
            "SSE: 5.634921753015258\n",
            "R^2: 0.9524479176960737\n"
          ]
        }
      ]
    },
    {
      "cell_type": "code",
      "source": [
        "plt.scatter(x, y, color='blue', label='Data points')\n",
        "plt.plot(x, y_pred, color='red', label='Analytic Solution')\n",
        "plt.plot(x, y_pred_gd, color='green', linestyle='--', label='Gradient Descent Solution')\n",
        "plt.xlabel('x')\n",
        "plt.ylabel('y')\n",
        "plt.legend()\n",
        "plt.show()"
      ],
      "metadata": {
        "colab": {
          "base_uri": "https://localhost:8080/",
          "height": 449
        },
        "id": "evZwCkdjf8Pt",
        "outputId": "379c3419-00bb-476e-93a6-c37c2143f934"
      },
      "execution_count": null,
      "outputs": [
        {
          "output_type": "display_data",
          "data": {
            "text/plain": [
              "<Figure size 640x480 with 1 Axes>"
            ],
            "image/png": "[encoded data removed]"
          },
          "metadata": {}
        }
      ]
    }
  ]
}