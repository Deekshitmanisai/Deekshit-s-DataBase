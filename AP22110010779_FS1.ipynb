{
  "nbformat": 4,
  "nbformat_minor": 0,
  "metadata": {
    "colab": {
      "provenance": [],
      "authorship_tag": "ABX9TyMPAyodfMHv7YtvszLJIRRF",
      "include_colab_link": true
    },
    "kernelspec": {
      "name": "python3",
      "display_name": "Python 3"
    },
    "language_info": {
      "name": "python"
    }
  },
  "cells": [
    {
      "cell_type": "markdown",
      "metadata": {
        "id": "view-in-github",
        "colab_type": "text"
      },
      "source": [
        "<a href=\"https://colab.research.google.com/github/Deekshitmanisai/Deekshit-s-DataBase/blob/main/AP22110010779_FS1.ipynb\" target=\"_parent\"><img src=\"https://colab.research.google.com/assets/colab-badge.svg\" alt=\"Open In Colab\"/></a>"
      ]
    },
    {
      "cell_type": "code",
      "execution_count": 2,
      "metadata": {
        "colab": {
          "base_uri": "https://localhost:8080/"
        },
        "id": "5Iolna7A8d3N",
        "outputId": "9616a24a-b63f-4768-ba8e-c72a41ff1fe8"
      },
      "outputs": [
        {
          "output_type": "stream",
          "name": "stdout",
          "text": [
            "(768, 8)\n"
          ]
        }
      ],
      "source": [
        "\n",
        "import pandas as pd\n",
        "data=pd.read_csv('/content/diabetes.csv')\n",
        "# print(data.columns)\n",
        "x=data.drop(['Outcome'],axis=1)\n",
        "print(x.shape)\n",
        "# print(x.columns)\n",
        "y=data['Outcome']"
      ]
    },
    {
      "cell_type": "code",
      "source": [
        "missing_values=x.eq(0).sum()\n",
        "percent_missing_value=(missing_values/len(x))*100\n",
        "print(percent_missing_value)"
      ],
      "metadata": {
        "colab": {
          "base_uri": "https://localhost:8080/"
        },
        "id": "HtaFhZb68mMR",
        "outputId": "f186119f-b605-4bee-94e0-c6dba3c2433a"
      },
      "execution_count": 3,
      "outputs": [
        {
          "output_type": "stream",
          "name": "stdout",
          "text": [
            "Pregnancies                 14.453125\n",
            "Glucose                      0.651042\n",
            "BloodPressure                4.557292\n",
            "SkinThickness               29.557292\n",
            "Insulin                     48.697917\n",
            "BMI                          1.432292\n",
            "DiabetesPedigreeFunction     0.000000\n",
            "Age                          0.000000\n",
            "dtype: float64\n"
          ]
        }
      ]
    },
    {
      "cell_type": "code",
      "source": [
        "\n",
        "\n",
        "missing_values=x.eq(0).sum()\n",
        "percent_missing_value=(missing_values/len(x))*100\n",
        "print(percent_missing_value)"
      ],
      "metadata": {
        "colab": {
          "base_uri": "https://localhost:8080/"
        },
        "id": "oHr-tbV28mOs",
        "outputId": "55e0059c-e61c-4bcc-d889-dc6a063e6835"
      },
      "execution_count": 6,
      "outputs": [
        {
          "output_type": "stream",
          "name": "stdout",
          "text": [
            "Pregnancies                 14.453125\n",
            "Glucose                      0.651042\n",
            "BloodPressure                4.557292\n",
            "SkinThickness               29.557292\n",
            "Insulin                     48.697917\n",
            "BMI                          1.432292\n",
            "DiabetesPedigreeFunction     0.000000\n",
            "Age                          0.000000\n",
            "dtype: float64\n"
          ]
        }
      ]
    },
    {
      "cell_type": "code",
      "source": [
        "\n",
        "\n",
        "final_data_columns=percent_missing_value.drop(percent_missing_value[percent_missing_value>28].index)\n",
        "print(final_data_columns)"
      ],
      "metadata": {
        "colab": {
          "base_uri": "https://localhost:8080/"
        },
        "id": "NH2Zu9jE8mRa",
        "outputId": "0d28569f-4220-463a-9d2a-bd9b9670acbe"
      },
      "execution_count": 7,
      "outputs": [
        {
          "output_type": "stream",
          "name": "stdout",
          "text": [
            "Pregnancies                 14.453125\n",
            "Glucose                      0.651042\n",
            "BloodPressure                4.557292\n",
            "BMI                          1.432292\n",
            "DiabetesPedigreeFunction     0.000000\n",
            "Age                          0.000000\n",
            "dtype: float64\n"
          ]
        }
      ]
    },
    {
      "cell_type": "code",
      "source": [
        "\n",
        "\n",
        "data_updated=x[final_data_columns.index]\n",
        "print(len(data_updated.keys()))"
      ],
      "metadata": {
        "colab": {
          "base_uri": "https://localhost:8080/"
        },
        "id": "LSmjUDN58mT9",
        "outputId": "9011c2bd-6149-4925-822b-e06c9c167262"
      },
      "execution_count": 8,
      "outputs": [
        {
          "output_type": "stream",
          "name": "stdout",
          "text": [
            "6\n"
          ]
        }
      ]
    },
    {
      "cell_type": "code",
      "source": [
        "\n",
        "\n",
        "from sklearn.model_selection import train_test_split\n",
        "from sklearn.tree import DecisionTreeClassifier\n",
        "from sklearn.metrics import accuracy_score\n",
        "model = DecisionTreeClassifier(random_state=42)\n",
        "x_train,x_test,y_train,y_test=train_test_split(x,y,test_size=0.3,random_state=42)\n",
        "model.fit(x_train,y_train)\n",
        "y_pred=model.predict(x_test)\n",
        "print(accuracy_score(y_test,y_pred))\n",
        "\n",
        "xu_train,xu_test,yu_train,yu_test=train_test_split(data_updated,y,test_size=0.3,random_state=42)\n",
        "model.fit(xu_train,yu_train)\n",
        "yu_pred=model.predict(xu_test)\n",
        "print(accuracy_score(yu_test,yu_pred))\n",
        ""
      ],
      "metadata": {
        "colab": {
          "base_uri": "https://localhost:8080/"
        },
        "id": "H6HYPN9E8mWZ",
        "outputId": "033f40e4-75ed-4cb5-9e48-8cce10c0f69f"
      },
      "execution_count": 9,
      "outputs": [
        {
          "output_type": "stream",
          "name": "stdout",
          "text": [
            "0.7012987012987013\n",
            "0.7056277056277056\n"
          ]
        }
      ]
    },
    {
      "cell_type": "code",
      "source": [],
      "metadata": {
        "id": "u8CYlpnJ8mYk"
      },
      "execution_count": null,
      "outputs": []
    },
    {
      "cell_type": "code",
      "source": [],
      "metadata": {
        "id": "YpnqIYLr8mbQ"
      },
      "execution_count": null,
      "outputs": []
    },
    {
      "cell_type": "code",
      "source": [],
      "metadata": {
        "id": "csB_ZYKK8meM"
      },
      "execution_count": null,
      "outputs": []
    },
    {
      "cell_type": "code",
      "source": [],
      "metadata": {
        "id": "bOdDxAX68mgi"
      },
      "execution_count": null,
      "outputs": []
    },
    {
      "cell_type": "code",
      "source": [],
      "metadata": {
        "id": "b9ecg-TN8mj6"
      },
      "execution_count": null,
      "outputs": []
    }
  ]
}