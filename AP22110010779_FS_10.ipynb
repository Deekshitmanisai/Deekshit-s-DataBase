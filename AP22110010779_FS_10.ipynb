{
  "nbformat": 4,
  "nbformat_minor": 0,
  "metadata": {
    "colab": {
      "provenance": [],
      "authorship_tag": "ABX9TyNe/W8dvbHWlRry23KSR+Y+",
      "include_colab_link": true
    },
    "kernelspec": {
      "name": "python3",
      "display_name": "Python 3"
    },
    "language_info": {
      "name": "python"
    }
  },
  "cells": [
    {
      "cell_type": "markdown",
      "metadata": {
        "id": "view-in-github",
        "colab_type": "text"
      },
      "source": [
        "<a href=\"https://colab.research.google.com/github/Deekshitmanisai/Deekshit-s-DataBase/blob/main/AP22110010779_FS_10.ipynb\" target=\"_parent\"><img src=\"https://colab.research.google.com/assets/colab-badge.svg\" alt=\"Open In Colab\"/></a>"
      ]
    },
    {
      "cell_type": "code",
      "execution_count": 1,
      "metadata": {
        "colab": {
          "base_uri": "https://localhost:8080/"
        },
        "id": "8CtIxd23DXC6",
        "outputId": "e82c9968-f80c-40f5-dc36-bc82ed9b9be2"
      },
      "outputs": [
        {
          "output_type": "stream",
          "name": "stdout",
          "text": [
            "object\n",
            "int64\n",
            "object\n",
            "float64\n",
            "object\n",
            "object\n",
            "object\n",
            "float64\n",
            "float64\n",
            "float64\n",
            "float64\n",
            "float64\n",
            "float64\n",
            "float64\n",
            "float64\n",
            "object\n",
            "float64\n",
            "float64\n",
            "object\n",
            "float64\n"
          ]
        }
      ],
      "source": [
        "\n",
        "\n",
        "import pandas as pd;\n",
        "from sklearn.preprocessing import LabelEncoder\n",
        "data=pd.read_csv('/content/melbourne_housing_raw (1).csv')\n",
        "from sklearn import preprocessing\n",
        "label_encoder = preprocessing.LabelEncoder()\n",
        "for column in data.keys():\n",
        "  print(data[column].dtype)\n",
        "  if data[column].dtype == 'object':\n",
        "    data[column] = label_encoder.fit_transform(data[column])"
      ]
    },
    {
      "cell_type": "code",
      "source": [
        "\n",
        "x=data.drop('Propertycount',axis=1)\n",
        "y=data['Propertycount']\n",
        "print(x.shape)\n",
        "print(y.shape)\n",
        "if y.isnull().any():\n",
        "    y = y.dropna()\n",
        "    x = x.loc[y.index]\n",
        "print(x.shape)\n",
        "print(y.shape)"
      ],
      "metadata": {
        "colab": {
          "base_uri": "https://localhost:8080/"
        },
        "id": "A1IHwQAvDb5O",
        "outputId": "47893553-4f40-491b-d273-df5f1887c39a"
      },
      "execution_count": 2,
      "outputs": [
        {
          "output_type": "stream",
          "name": "stdout",
          "text": [
            "(34857, 19)\n",
            "(34857,)\n",
            "(34854, 19)\n",
            "(34854,)\n"
          ]
        }
      ]
    },
    {
      "cell_type": "code",
      "source": [
        "\n",
        "import numpy as np\n",
        "from sklearn.model_selection import train_test_split\n",
        "from sklearn.ensemble import RandomForestRegressor\n",
        "from sklearn.metrics import mean_absolute_error\n",
        "import matplotlib.pyplot as plt\n",
        "\n",
        "X_train, X_test, y_train, y_test = train_test_split(x, y, test_size=0.3, random_state=42)\n",
        "model = RandomForestRegressor(n_estimators=10, random_state=42)\n",
        "def evaluate_model(X_train, X_test, y_train, y_test):\n",
        "    model.fit(X_train, y_train)\n",
        "    y_pred = model.predict(X_test)\n",
        "    return mean_absolute_error(y_test, y_pred)\n",
        "\n",
        "mae_list = []\n",
        "num_features_list = []\n",
        "\n",
        "current_features = list(X_train.columns)\n",
        "initial_mae = evaluate_model(X_train[current_features], X_test[current_features], y_train, y_test)\n",
        "mae_list.append(initial_mae)\n",
        "num_features_list.append(len(current_features))\n",
        "\n",
        "print(f\"initial mae with all features: {initial_mae}\")"
      ],
      "metadata": {
        "colab": {
          "base_uri": "https://localhost:8080/"
        },
        "id": "wva0TwCjDb7o",
        "outputId": "80573cec-a777-4190-a563-dc6edd0e1b76"
      },
      "execution_count": 3,
      "outputs": [
        {
          "output_type": "stream",
          "name": "stdout",
          "text": [
            "initial mae with all features: 16.97251601797839\n"
          ]
        }
      ]
    },
    {
      "cell_type": "code",
      "source": [
        "for _ in range(len(current_features) - 1):\n",
        "    importances = model.feature_importances_\n",
        "    least_important_idx = np.argmin(importances)\n",
        "    least_important_feature = current_features[least_important_idx]\n",
        "    current_features.pop(least_important_idx)\n",
        "    new_mae = evaluate_model(X_train[current_features], X_test[current_features], y_train, y_test)\n",
        "\n",
        "\n",
        "    mae_list.append(new_mae)\n",
        "    num_features_list.append(len(current_features))\n",
        "    print(f\"removed {least_important_feature}, mae: {new_mae}, features left: {len(current_features)}\")\n",
        ""
      ],
      "metadata": {
        "colab": {
          "base_uri": "https://localhost:8080/"
        },
        "id": "TJXha-RTDb-A",
        "outputId": "40285610-3f68-477e-de4b-9c9c31ed3667"
      },
      "execution_count": 4,
      "outputs": [
        {
          "output_type": "stream",
          "name": "stdout",
          "text": [
            "removed Type, mae: 18.184651429664342, features left: 18\n",
            "removed Method, mae: 19.35569474992828, features left: 17\n",
            "removed Car, mae: 18.473577507889452, features left: 16\n",
            "removed YearBuilt, mae: 18.282442383092665, features left: 15\n",
            "removed BuildingArea, mae: 17.204379841254664, features left: 14\n",
            "removed Bedroom2, mae: 16.344534761403843, features left: 13\n",
            "removed Date, mae: 18.153122310414076, features left: 12\n",
            "removed Rooms, mae: 17.769934015492016, features left: 11\n",
            "removed Bathroom, mae: 17.34216314430525, features left: 10\n",
            "removed Landsize, mae: 15.445787510758347, features left: 9\n",
            "removed Price, mae: 13.488161040451374, features left: 8\n",
            "removed SellerG, mae: 12.616783016161424, features left: 7\n",
            "removed Lattitude, mae: 10.519852730228555, features left: 6\n",
            "removed Longtitude, mae: 5.943788849574448, features left: 5\n",
            "removed Regionname, mae: 5.856287654202926, features left: 4\n",
            "removed CouncilArea, mae: 5.31158075929999, features left: 3\n",
            "removed Distance, mae: 4.780147269771445, features left: 2\n",
            "removed Postcode, mae: 3.213894998565554, features left: 1\n"
          ]
        }
      ]
    },
    {
      "cell_type": "code",
      "source": [
        "\n",
        "plt.plot(num_features_list, mae_list, marker='o')\n",
        "plt.title('Impact of Feature Elimination on Model Accuracy')\n",
        "plt.xlabel('Number of Features')\n",
        "plt.ylabel('Mean Absolute Error (MAE)')\n",
        "plt.gca().invert_xaxis()\n",
        "plt.show()"
      ],
      "metadata": {
        "colab": {
          "base_uri": "https://localhost:8080/",
          "height": 472
        },
        "id": "HVIZMs3eDcAw",
        "outputId": "f748546e-8a4f-4822-ba9a-4160769076f2"
      },
      "execution_count": 5,
      "outputs": [
        {
          "output_type": "display_data",
          "data": {
            "text/plain": [
              "<Figure size 640x480 with 1 Axes>"
            ],
            "image/png": "[encoded data removed]"
          },
          "metadata": {}
        }
      ]
    },
    {
      "cell_type": "code",
      "source": [],
      "metadata": {
        "id": "I0vkuRjRDcDG"
      },
      "execution_count": null,
      "outputs": []
    },
    {
      "cell_type": "code",
      "source": [],
      "metadata": {
        "id": "zKSw9LlqDcFa"
      },
      "execution_count": null,
      "outputs": []
    }
  ]
}