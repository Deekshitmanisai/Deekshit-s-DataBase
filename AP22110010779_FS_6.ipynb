{
  "nbformat": 4,
  "nbformat_minor": 0,
  "metadata": {
    "colab": {
      "provenance": [],
      "authorship_tag": "ABX9TyO5SytClJvNa1VUuWkTH7W3",
      "include_colab_link": true
    },
    "kernelspec": {
      "name": "python3",
      "display_name": "Python 3"
    },
    "language_info": {
      "name": "python"
    }
  },
  "cells": [
    {
      "cell_type": "markdown",
      "metadata": {
        "id": "view-in-github",
        "colab_type": "text"
      },
      "source": [
        "<a href=\"https://colab.research.google.com/github/Deekshitmanisai/Deekshit-s-DataBase/blob/main/AP22110010779_FS_6.ipynb\" target=\"_parent\"><img src=\"https://colab.research.google.com/assets/colab-badge.svg\" alt=\"Open In Colab\"/></a>"
      ]
    },
    {
      "cell_type": "code",
      "execution_count": 1,
      "metadata": {
        "id": "_ZUFW2R7BYkl"
      },
      "outputs": [],
      "source": [
        "\n",
        "\n",
        "import pandas as pd;\n",
        "from sklearn.preprocessing import LabelEncoder\n",
        "data=pd.read_csv('/content/melbourne_housing_raw (1).csv')\n",
        "from sklearn import preprocessing\n",
        "label_encoder = preprocessing.LabelEncoder()\n",
        "for column in data.keys():\n",
        "  if data[column].dtype == 'object':\n",
        "    data[column] = label_encoder.fit_transform(data[column])"
      ]
    },
    {
      "cell_type": "code",
      "source": [
        "\n",
        "\n",
        "x=data.drop('Propertycount',axis=1)\n",
        "y=data['Propertycount']\n",
        "print(x.shape)\n",
        "print(y.shape)\n",
        "if y.isnull().any():\n",
        "    y = y.dropna()\n",
        "    x = x.loc[y.index]\n",
        "print(x.shape)\n",
        "print(y.shape)"
      ],
      "metadata": {
        "colab": {
          "base_uri": "https://localhost:8080/"
        },
        "id": "iOM25qZcBmdW",
        "outputId": "86f56e97-01b9-4886-b4c8-f4beba342ba7"
      },
      "execution_count": 3,
      "outputs": [
        {
          "output_type": "stream",
          "name": "stdout",
          "text": [
            "(34857, 19)\n",
            "(34857,)\n",
            "(34854, 19)\n",
            "(34854,)\n"
          ]
        }
      ]
    },
    {
      "cell_type": "code",
      "source": [
        "import pandas as pd\n",
        "import numpy as np\n",
        "from sklearn.model_selection import train_test_split\n",
        "from sklearn.linear_model import LinearRegression\n",
        "from sklearn.metrics import mean_absolute_error\n",
        "\n",
        "x_dropped = x.dropna()\n",
        "x_train, x_test, y_train, y_test = train_test_split(x_dropped, y[x_dropped.index], test_size=0.3, random_state=42)\n",
        "print(x_train.shape)\n",
        "print(x_test.shape)\n",
        "print(y_train.shape)\n",
        "print(y_test.shape)\n",
        "variances = np.var(x_train, axis=0)\n",
        "\n",
        "selected_columns = x_train.columns[variances > 4]\n",
        "\n",
        "x_train_filtered = x_train[selected_columns]\n",
        "x_test_filtered = x_test[selected_columns]\n",
        "\n",
        "\n",
        "print(f\"Total features: {x_train.shape[1]}\")\n",
        "print(f\"Total features selected: {x_train_filtered.shape[1]}\")\n",
        "\n",
        "model=LinearRegression()\n",
        "model.fit(x_train, y_train)\n",
        "y_pred = model.predict(x_test)\n",
        "\n",
        "mae_before = mean_absolute_error(y_test, y_pred)\n",
        "print(f\"MAE before filtering low variance features: {mae_before}\")\n",
        "model.fit(x_train_filtered, y_train)\n",
        "y_pred = model.predict(x_test_filtered)\n",
        "mae_after = mean_absolute_error(y_test, y_pred)\n",
        "print(f\"MAE after filtering low variance features: {mae_after}\")\n",
        "\n",
        ""
      ],
      "metadata": {
        "colab": {
          "base_uri": "https://localhost:8080/"
        },
        "id": "T-kD1XxQBmgB",
        "outputId": "9a4119f5-b48d-4a6e-9df9-83ec390f8ac0"
      },
      "execution_count": 4,
      "outputs": [
        {
          "output_type": "stream",
          "name": "stdout",
          "text": [
            "(6220, 19)\n",
            "(2667, 19)\n",
            "(6220,)\n",
            "(2667,)\n",
            "Total features: 19\n",
            "Total features selected: 11\n",
            "MAE before filtering low variance features: 3462.358899620885\n",
            "MAE after filtering low variance features: 3473.768792792215\n"
          ]
        }
      ]
    },
    {
      "cell_type": "code",
      "source": [],
      "metadata": {
        "id": "cLAm6llQBmik"
      },
      "execution_count": null,
      "outputs": []
    },
    {
      "cell_type": "code",
      "source": [],
      "metadata": {
        "id": "_y-HoN7JBmlD"
      },
      "execution_count": null,
      "outputs": []
    },
    {
      "cell_type": "code",
      "source": [],
      "metadata": {
        "id": "8D12jWfeBmnk"
      },
      "execution_count": null,
      "outputs": []
    },
    {
      "cell_type": "code",
      "source": [],
      "metadata": {
        "id": "L_TQFRPUBmq6"
      },
      "execution_count": null,
      "outputs": []
    }
  ]
}