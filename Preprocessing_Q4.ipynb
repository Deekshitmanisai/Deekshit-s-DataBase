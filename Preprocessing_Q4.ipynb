{
  "nbformat": 4,
  "nbformat_minor": 0,
  "metadata": {
    "colab": {
      "provenance": [],
      "authorship_tag": "ABX9TyMfi7NUBmbDYNOsV/qSiiYc",
      "include_colab_link": true
    },
    "kernelspec": {
      "name": "python3",
      "display_name": "Python 3"
    },
    "language_info": {
      "name": "python"
    }
  },
  "cells": [
    {
      "cell_type": "markdown",
      "metadata": {
        "id": "view-in-github",
        "colab_type": "text"
      },
      "source": [
        "<a href=\"https://colab.research.google.com/github/Deekshitmanisai/Deekshit-s-DataBase/blob/main/Preprocessing_Q4.ipynb\" target=\"_parent\"><img src=\"https://colab.research.google.com/assets/colab-badge.svg\" alt=\"Open In Colab\"/></a>"
      ]
    },
    {
      "cell_type": "code",
      "execution_count": 1,
      "metadata": {
        "id": "7zm8C4A93-Nt"
      },
      "outputs": [],
      "source": [
        "import numpy as np\n",
        "\n",
        "M = 4\n",
        "N = 5\n",
        "\n",
        "matrix = np.array([\n",
        "    [1.2, 3.5, 5.7, 2.1, 4.4],\n",
        "    [6.8, 2.4, 3.6, 8.7, 5.9],\n",
        "    [4.3, 7.1, 8.2, 1.4, 3.7],\n",
        "    [9.8, 2.1, 4.5, 6.2, 7.0]\n",
        "])"
      ]
    },
    {
      "cell_type": "code",
      "source": [
        "matrix_T = matrix.T"
      ],
      "metadata": {
        "id": "zqA53o513-_Y"
      },
      "execution_count": 2,
      "outputs": []
    },
    {
      "cell_type": "code",
      "source": [
        "covariance_matrix = np.cov(matrix_T, rowvar=False)"
      ],
      "metadata": {
        "id": "G74r8Crg4CMu"
      },
      "execution_count": 3,
      "outputs": []
    },
    {
      "cell_type": "code",
      "source": [
        "correlation_matrix = np.corrcoef(matrix_T, rowvar=False)"
      ],
      "metadata": {
        "id": "6Hfy3dVv3_Bz"
      },
      "execution_count": 4,
      "outputs": []
    },
    {
      "cell_type": "code",
      "source": [
        "print(f'Matrix (MxN dimension):\\n{matrix}\\n')\n",
        "print(f'Covariance Matrix (MxM dimension):\\n{covariance_matrix}\\n')\n",
        "print(f'Correlation Matrix (MxM dimension):\\n{correlation_matrix}\\n')\n"
      ],
      "metadata": {
        "colab": {
          "base_uri": "https://localhost:8080/"
        },
        "id": "Hz6Q3QSu3_EK",
        "outputId": "678206fc-8a69-443c-d771-aa8dbb210835"
      },
      "execution_count": 5,
      "outputs": [
        {
          "output_type": "stream",
          "name": "stdout",
          "text": [
            "Matrix (MxN dimension):\n",
            "[[1.2 3.5 5.7 2.1 4.4]\n",
            " [6.8 2.4 3.6 8.7 5.9]\n",
            " [4.3 7.1 8.2 1.4 3.7]\n",
            " [9.8 2.1 4.5 6.2 7. ]]\n",
            "\n",
            "Covariance Matrix (MxM dimension):\n",
            "[[ 3.207  -2.8255  3.121  -2.867 ]\n",
            " [-2.8255  6.327  -6.3865  5.228 ]\n",
            " [ 3.121  -6.3865  7.443  -4.4235]\n",
            " [-2.867   5.228  -4.4235  8.227 ]]\n",
            "\n",
            "Correlation Matrix (MxM dimension):\n",
            "[[ 1.         -0.62725902  0.6388079  -0.5581584 ]\n",
            " [-0.62725902  1.         -0.93065773  0.72462934]\n",
            " [ 0.6388079  -0.93065773  1.         -0.56528996]\n",
            " [-0.5581584   0.72462934 -0.56528996  1.        ]]\n",
            "\n"
          ]
        }
      ]
    },
    {
      "cell_type": "code",
      "source": [],
      "metadata": {
        "id": "Y6z6vwAx3_GO"
      },
      "execution_count": null,
      "outputs": []
    }
  ]
}