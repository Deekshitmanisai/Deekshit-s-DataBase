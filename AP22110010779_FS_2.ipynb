{
  "nbformat": 4,
  "nbformat_minor": 0,
  "metadata": {
    "colab": {
      "provenance": [],
      "authorship_tag": "ABX9TyNWPdfktcg8b9JCn4psuiOJ",
      "include_colab_link": true
    },
    "kernelspec": {
      "name": "python3",
      "display_name": "Python 3"
    },
    "language_info": {
      "name": "python"
    }
  },
  "cells": [
    {
      "cell_type": "markdown",
      "metadata": {
        "id": "view-in-github",
        "colab_type": "text"
      },
      "source": [
        "<a href=\"https://colab.research.google.com/github/Deekshitmanisai/Deekshit-s-DataBase/blob/main/AP22110010779_FS_2.ipynb\" target=\"_parent\"><img src=\"https://colab.research.google.com/assets/colab-badge.svg\" alt=\"Open In Colab\"/></a>"
      ]
    },
    {
      "cell_type": "code",
      "execution_count": 2,
      "metadata": {
        "colab": {
          "base_uri": "https://localhost:8080/"
        },
        "id": "OdgbJp2B-Nw2",
        "outputId": "19bf461c-24fa-4cc4-fee1-f7098cfd37f7"
      },
      "outputs": [
        {
          "output_type": "stream",
          "name": "stdout",
          "text": [
            "Index(['Suburb', 'Rooms', 'Type', 'Price', 'Method', 'SellerG', 'Date',\n",
            "       'Distance', 'Postcode', 'Bedroom2', 'Bathroom', 'Car', 'Landsize',\n",
            "       'BuildingArea', 'YearBuilt', 'CouncilArea', 'Lattitude', 'Longtitude',\n",
            "       'Regionname', 'Propertycount'],\n",
            "      dtype='object')\n",
            "       Suburb  Rooms Type      Price Method SellerG     Date  Distance  \\\n",
            "0  Abbotsford      2    h        NaN     SS  Jellis   3/9/16       2.5   \n",
            "1  Abbotsford      2    h  1480000.0      S  Biggin  3/12/16       2.5   \n",
            "2  Abbotsford      2    h  1035000.0      S  Biggin   4/2/16       2.5   \n",
            "3  Abbotsford      3    u        NaN     VB  Rounds   4/2/16       2.5   \n",
            "4  Abbotsford      3    h  1465000.0     SP  Biggin   4/3/17       2.5   \n",
            "\n",
            "   Postcode  Bedroom2  Bathroom  Car  Landsize  BuildingArea  YearBuilt  \\\n",
            "0    3067.0       2.0       1.0  1.0     126.0           NaN        NaN   \n",
            "1    3067.0       2.0       1.0  1.0     202.0           NaN        NaN   \n",
            "2    3067.0       2.0       1.0  0.0     156.0          79.0     1900.0   \n",
            "3    3067.0       3.0       2.0  1.0       0.0           NaN        NaN   \n",
            "4    3067.0       3.0       2.0  0.0     134.0         150.0     1900.0   \n",
            "\n",
            "          CouncilArea  Lattitude  Longtitude             Regionname  \\\n",
            "0  Yarra City Council   -37.8014    144.9958  Northern Metropolitan   \n",
            "1  Yarra City Council   -37.7996    144.9984  Northern Metropolitan   \n",
            "2  Yarra City Council   -37.8079    144.9934  Northern Metropolitan   \n",
            "3  Yarra City Council   -37.8114    145.0116  Northern Metropolitan   \n",
            "4  Yarra City Council   -37.8093    144.9944  Northern Metropolitan   \n",
            "\n",
            "   Propertycount  \n",
            "0         4019.0  \n",
            "1         4019.0  \n",
            "2         4019.0  \n",
            "3         4019.0  \n",
            "4         4019.0  \n"
          ]
        }
      ],
      "source": [
        "import pandas as pd;\n",
        "from sklearn.preprocessing import LabelEncoder\n",
        "data=pd.read_csv('/content/melbourne_housing_raw (1).csv')\n",
        "print(data.keys())\n",
        "print(data.head())\n",
        ""
      ]
    },
    {
      "cell_type": "code",
      "source": [
        "\n",
        "\n",
        "from sklearn import preprocessing\n",
        "label_encoder = preprocessing.LabelEncoder()\n",
        "for column in data.keys():\n",
        "  if data[column].dtype == 'object':\n",
        "    data[column] = label_encoder.fit_transform(data[column])\n",
        "\n",
        "\n",
        "x=data.drop('Propertycount',axis=1)\n",
        "y=data['Propertycount']"
      ],
      "metadata": {
        "id": "FwYA3MP4_lQ_"
      },
      "execution_count": 4,
      "outputs": []
    },
    {
      "cell_type": "code",
      "source": [
        "\n",
        "\n",
        "print(x.shape)\n",
        "print(y.shape)\n",
        "if y.isnull().any():\n",
        "    y = y.dropna()\n",
        "    x = x.loc[y.index]\n",
        "print(x.shape)\n",
        "print(y.shape)"
      ],
      "metadata": {
        "colab": {
          "base_uri": "https://localhost:8080/"
        },
        "id": "AgKv6t-q_lTv",
        "outputId": "ab4c4716-b8af-4052-d7ef-079db729ae7c"
      },
      "execution_count": 5,
      "outputs": [
        {
          "output_type": "stream",
          "name": "stdout",
          "text": [
            "(34857, 19)\n",
            "(34857,)\n",
            "(34854, 19)\n",
            "(34854,)\n"
          ]
        }
      ]
    },
    {
      "cell_type": "code",
      "source": [
        "missing_value_count=x.isnull().sum()\n",
        "# print(missing_value_count)\n",
        "missing_value_percentage=missing_value_count/len(x)*100\n",
        "print(missing_value_percentage)"
      ],
      "metadata": {
        "colab": {
          "base_uri": "https://localhost:8080/"
        },
        "id": "YPPKAbBW_lWE",
        "outputId": "4c189dca-d0dd-480f-e4a8-2ed6edf408b2"
      },
      "execution_count": 6,
      "outputs": [
        {
          "output_type": "stream",
          "name": "stdout",
          "text": [
            "Suburb           0.000000\n",
            "Rooms            0.000000\n",
            "Type             0.000000\n",
            "Price           21.833936\n",
            "Method           0.000000\n",
            "SellerG          0.000000\n",
            "Date             0.000000\n",
            "Distance         0.000000\n",
            "Postcode         0.000000\n",
            "Bedroom2        23.566879\n",
            "Bathroom        23.592701\n",
            "Car             25.032995\n",
            "Landsize        33.875595\n",
            "BuildingArea    60.572675\n",
            "YearBuilt       55.382453\n",
            "CouncilArea      0.000000\n",
            "Lattitude       22.875423\n",
            "Longtitude      22.875423\n",
            "Regionname       0.000000\n",
            "dtype: float64\n"
          ]
        }
      ]
    },
    {
      "cell_type": "code",
      "source": [
        "final_columns=missing_value_percentage[missing_value_percentage<=20].keys()\n",
        "print(final_columns)\n",
        "xu=x[final_columns]\n",
        "print(xu.shape)"
      ],
      "metadata": {
        "colab": {
          "base_uri": "https://localhost:8080/"
        },
        "id": "nnDcSIK2_lYn",
        "outputId": "7bcf53f5-a94f-4224-b07d-7688ba8d5459"
      },
      "execution_count": 8,
      "outputs": [
        {
          "output_type": "stream",
          "name": "stdout",
          "text": [
            "Index(['Suburb', 'Rooms', 'Type', 'Method', 'SellerG', 'Date', 'Distance',\n",
            "       'Postcode', 'CouncilArea', 'Regionname'],\n",
            "      dtype='object')\n",
            "(34854, 10)\n"
          ]
        }
      ]
    },
    {
      "cell_type": "code",
      "source": [
        "\n",
        "\n",
        "from sklearn.model_selection import train_test_split\n",
        "from sklearn.tree import DecisionTreeClassifier\n",
        "from sklearn.metrics import accuracy_score\n",
        "model = DecisionTreeClassifier(random_state=42)\n",
        "x_train,x_test,y_train,y_test=train_test_split(x,y,test_size=0.3,random_state=42)\n",
        "model.fit(x_train,y_train)\n",
        "y_pred=model.predict(x_test)\n",
        "print(accuracy_score(y_test,y_pred))\n",
        "\n",
        "xu_train,xu_test,yu_train,yu_test=train_test_split(xu,y,test_size=0.3,random_state=42)\n",
        "model.fit(xu_train,yu_train)\n",
        "yu_pred=model.predict(xu_test)\n",
        "print(accuracy_score(yu_test,yu_pred))"
      ],
      "metadata": {
        "colab": {
          "base_uri": "https://localhost:8080/"
        },
        "id": "-7xLzM_G_lbH",
        "outputId": "fc21ad48-da02-465e-90dc-9676fbb22cf0"
      },
      "execution_count": 9,
      "outputs": [
        {
          "output_type": "stream",
          "name": "stdout",
          "text": [
            "0.9975136272353448\n",
            "0.9989480730611074\n"
          ]
        }
      ]
    },
    {
      "cell_type": "code",
      "source": [],
      "metadata": {
        "id": "yWEJ90_t_ldq"
      },
      "execution_count": null,
      "outputs": []
    },
    {
      "cell_type": "code",
      "source": [],
      "metadata": {
        "id": "Te01sAlc_lfw"
      },
      "execution_count": null,
      "outputs": []
    }
  ]
}