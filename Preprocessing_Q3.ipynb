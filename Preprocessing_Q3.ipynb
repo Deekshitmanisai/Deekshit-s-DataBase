{
  "nbformat": 4,
  "nbformat_minor": 0,
  "metadata": {
    "colab": {
      "provenance": [],
      "authorship_tag": "ABX9TyNLSdk6aESDjkFgi9Qx6loL",
      "include_colab_link": true
    },
    "kernelspec": {
      "name": "python3",
      "display_name": "Python 3"
    },
    "language_info": {
      "name": "python"
    }
  },
  "cells": [
    {
      "cell_type": "markdown",
      "metadata": {
        "id": "view-in-github",
        "colab_type": "text"
      },
      "source": [
        "<a href=\"https://colab.research.google.com/github/Deekshitmanisai/Deekshit-s-DataBase/blob/main/Preprocessing_Q3.ipynb\" target=\"_parent\"><img src=\"https://colab.research.google.com/assets/colab-badge.svg\" alt=\"Open In Colab\"/></a>"
      ]
    },
    {
      "cell_type": "code",
      "execution_count": 1,
      "metadata": {
        "id": "qRkmc9gU3MUR"
      },
      "outputs": [],
      "source": [
        "import numpy as np\n",
        "\n",
        "N = 10\n",
        "vector_x = np.array([10, 12, 18, 22, 29, 33, 37, 41, 25, 19])\n",
        "vector_y = np.array([8, 11, 17, 23, 28, 32, 35, 39, 22, 16])\n"
      ]
    },
    {
      "cell_type": "code",
      "source": [
        "mean_x = np.mean(vector_x)\n",
        "mean_y = np.mean(vector_y)"
      ],
      "metadata": {
        "id": "4od7HRkY3OLr"
      },
      "execution_count": 2,
      "outputs": []
    },
    {
      "cell_type": "code",
      "source": [
        "covariance = np.sum((vector_x - mean_x) * (vector_y - mean_y)) / (N - 1)"
      ],
      "metadata": {
        "id": "qF9sNjJ23OOB"
      },
      "execution_count": 3,
      "outputs": []
    },
    {
      "cell_type": "code",
      "source": [
        "\n",
        "variance_x = np.var(vector_x, ddof=1)\n",
        "variance_y = np.var(vector_y, ddof=1)\n"
      ],
      "metadata": {
        "id": "Iu85T5ve3OQj"
      },
      "execution_count": 4,
      "outputs": []
    },
    {
      "cell_type": "code",
      "source": [
        "correlation = covariance / np.sqrt(variance_x * variance_y)"
      ],
      "metadata": {
        "id": "_if3vvf23OTD"
      },
      "execution_count": 5,
      "outputs": []
    },
    {
      "cell_type": "code",
      "source": [
        "print(f'Vector X (1x{N} vector): {vector_x}')\n",
        "print(f'Vector Y (1x{N} vector): {vector_y}')\n",
        "print(f'Correlation: {correlation:.4f}')"
      ],
      "metadata": {
        "colab": {
          "base_uri": "https://localhost:8080/"
        },
        "id": "jtVUXbJc3OVp",
        "outputId": "d495d57c-a532-4bd6-aaa1-36f929d11b65"
      },
      "execution_count": 6,
      "outputs": [
        {
          "output_type": "stream",
          "name": "stdout",
          "text": [
            "Vector X (1x10 vector): [10 12 18 22 29 33 37 41 25 19]\n",
            "Vector Y (1x10 vector): [ 8 11 17 23 28 32 35 39 22 16]\n",
            "Correlation: 0.9935\n"
          ]
        }
      ]
    },
    {
      "cell_type": "code",
      "source": [],
      "metadata": {
        "id": "XpCsImKk3OYE"
      },
      "execution_count": 6,
      "outputs": []
    }
  ]
}