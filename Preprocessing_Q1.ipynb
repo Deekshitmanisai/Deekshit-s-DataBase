{
  "nbformat": 4,
  "nbformat_minor": 0,
  "metadata": {
    "colab": {
      "provenance": [],
      "authorship_tag": "ABX9TyMK9V+sosMTin39za1w+Oeh",
      "include_colab_link": true
    },
    "kernelspec": {
      "name": "python3",
      "display_name": "Python 3"
    },
    "language_info": {
      "name": "python"
    }
  },
  "cells": [
    {
      "cell_type": "markdown",
      "metadata": {
        "id": "view-in-github",
        "colab_type": "text"
      },
      "source": [
        "<a href=\"https://colab.research.google.com/github/Deekshitmanisai/Deekshit-s-DataBase/blob/main/Preprocessing_Q1.ipynb\" target=\"_parent\"><img src=\"https://colab.research.google.com/assets/colab-badge.svg\" alt=\"Open In Colab\"/></a>"
      ]
    },
    {
      "cell_type": "code",
      "execution_count": 1,
      "metadata": {
        "id": "wRw_H9mg2Fu5"
      },
      "outputs": [],
      "source": [
        "import numpy as np\n",
        "N = 10\n",
        "vector = np.array([1, 2, 3, 4, 5, 6, 7, 8, 9, 10])"
      ]
    },
    {
      "cell_type": "code",
      "source": [
        "mean = np.mean(vector)"
      ],
      "metadata": {
        "id": "mpy8nDMN2JfS"
      },
      "execution_count": 2,
      "outputs": []
    },
    {
      "cell_type": "code",
      "source": [
        "sample_variance = np.var(vector, ddof=1)\n"
      ],
      "metadata": {
        "id": "BnIpasQ82Jh5"
      },
      "execution_count": 3,
      "outputs": []
    },
    {
      "cell_type": "code",
      "source": [
        "population_variance = np.var(vector)\n",
        "\n"
      ],
      "metadata": {
        "id": "xioawXSK2Jks"
      },
      "execution_count": 4,
      "outputs": []
    },
    {
      "cell_type": "code",
      "source": [
        "print(f'Array (1x{N} vector): {vector}')\n",
        "print(f'Mean: {mean:.4f}')\n",
        "print(f'Sample Variance): {sample_variance:.4f}')\n",
        "print(f'Population Variance: {population_variance:.4f}')\n"
      ],
      "metadata": {
        "colab": {
          "base_uri": "https://localhost:8080/"
        },
        "id": "T0qG2wj22JnC",
        "outputId": "fa3ae85b-6e4b-440f-8d69-3c29953b824d"
      },
      "execution_count": 5,
      "outputs": [
        {
          "output_type": "stream",
          "name": "stdout",
          "text": [
            "Array (1x10 vector): [ 1  2  3  4  5  6  7  8  9 10]\n",
            "Mean: 5.5000\n",
            "Sample Variance): 9.1667\n",
            "Population Variance: 8.2500\n"
          ]
        }
      ]
    },
    {
      "cell_type": "code",
      "source": [],
      "metadata": {
        "id": "zbpEhtyw2JpK"
      },
      "execution_count": null,
      "outputs": []
    },
    {
      "cell_type": "code",
      "source": [],
      "metadata": {
        "id": "zsYJoogr2Jsx"
      },
      "execution_count": null,
      "outputs": []
    }
  ]
}