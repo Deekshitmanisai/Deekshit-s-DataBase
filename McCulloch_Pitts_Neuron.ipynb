{
  "nbformat": 4,
  "nbformat_minor": 0,
  "metadata": {
    "colab": {
      "provenance": [],
      "authorship_tag": "ABX9TyN6C41M7NSjvRND0HXVXuw2",
      "include_colab_link": true
    },
    "kernelspec": {
      "name": "python3",
      "display_name": "Python 3"
    },
    "language_info": {
      "name": "python"
    }
  },
  "cells": [
    {
      "cell_type": "markdown",
      "metadata": {
        "id": "view-in-github",
        "colab_type": "text"
      },
      "source": [
        "<a href=\"https://colab.research.google.com/github/Deekshitmanisai/Deekshit-s-DataBase/blob/main/McCulloch_Pitts_Neuron.ipynb\" target=\"_parent\"><img src=\"https://colab.research.google.com/assets/colab-badge.svg\" alt=\"Open In Colab\"/></a>"
      ]
    },
    {
      "cell_type": "code",
      "execution_count": 1,
      "metadata": {
        "id": "L8mLGWtRcvLI"
      },
      "outputs": [],
      "source": [
        "\n",
        "import numpy as np"
      ]
    },
    {
      "cell_type": "code",
      "source": [
        "import numpy as np\n",
        "\n",
        "def train_perceptron(training_data, epochs=10000, lr=0.1):\n",
        "    num_inputs = len(training_data[0][0])\n",
        "    w = np.random.rand(num_inputs)\n",
        "    t = np.random.rand()\n",
        "\n",
        "    for epoch in range(epochs):\n",
        "        for inputs, expected_output in training_data:\n",
        "            weighted_sum = np.dot(inputs, w) - t\n",
        "            output = 1 if weighted_sum >= 0 else 0\n",
        "            error = expected_output - output\n",
        "            w += lr * error * np.array(inputs)\n",
        "            t -= lr * error\n",
        "\n",
        "    return w, t\n",
        "\n",
        "\n",
        "and_data = [\n",
        "    ([1, 1], 1),\n",
        "    ([1, 0], 0),\n",
        "    ([0, 1], 0),\n",
        "    ([0, 0], 0)\n",
        "]\n",
        "\n",
        "or_data = [\n",
        "    ([1, 1], 1),\n",
        "    ([1, 0], 1),\n",
        "    ([0, 1], 1),\n",
        "    ([0, 0], 0)\n",
        "]\n",
        "\n",
        "not_data = [\n",
        "    ([1], 0),\n",
        "    ([0], 1)\n",
        "]\n",
        "\n",
        "nand_data = [\n",
        "    ([1, 1], 0),\n",
        "    ([1, 0], 1),\n",
        "    ([0, 1], 1),\n",
        "    ([0, 0], 1)\n",
        "]\n",
        "\n",
        "nor_data = [\n",
        "    ([1, 1], 0),\n",
        "    ([1, 0], 0),\n",
        "    ([0, 1], 0),\n",
        "    ([0, 0], 1)\n",
        "]\n",
        "\n",
        "\n",
        "and_w, and_t = train_perceptron(and_data)\n",
        "or_w, or_t = train_perceptron(or_data)\n",
        "not_w, not_t = train_perceptron(not_data)\n",
        "nand_w, nand_t = train_perceptron(nand_data)\n",
        "nor_w, nor_t = train_perceptron(nor_data)\n",
        "\n",
        "print(\"and gate - weights:\", and_w, \"threshold:\", and_t)\n",
        "print(\"or gate - weights:\", or_w, \"threshold:\", or_t)\n",
        "print(\"not gate - weights:\", not_w, \"threshold:\", not_t)\n",
        "print(\"nand gate - weights:\", nand_w, \"threshold:\", nand_t)\n",
        "print(\"nor gate - weights:\", nor_w, \"threshold:\", nor_t)\n",
        "\n",
        "def perceptron_output(inputs, w, t):\n",
        "    weighted_sum = np.dot(inputs, w) - t\n",
        "    return 1 if weighted_sum >= 0 else 0\n",
        "\n",
        "print(\"and(1, 1):\", perceptron_output([1, 1], and_w, and_t))\n",
        "print(\"and(1, 0):\", perceptron_output([1, 0], and_w, and_t))\n",
        "print(\"or(1, 0):\", perceptron_output([1, 0], or_w, or_t))\n",
        "print(\"or(0, 0):\", perceptron_output([0, 0], or_w, or_t))\n",
        "print(\"not(1):\", perceptron_output([1], not_w, not_t))\n",
        "print(\"not(0):\", perceptron_output([0], not_w, not_t))\n",
        "print(\"nand(1, 1):\", perceptron_output([1, 1], nand_w, nand_t))\n",
        "print(\"nand(1, 0):\", perceptron_output([1, 0], nand_w, nand_t))\n",
        "print(\"nor(0, 0):\", perceptron_output([0, 0], nor_w, nor_t))\n",
        "print(\"nor(1, 0):\", perceptron_output([1, 0], nor_w, nor_t))\n",
        "\n",
        "\n",
        "\n",
        "\n",
        "\n",
        "\n",
        "\n",
        "def xor(x1, x2):\n",
        "    or_out = 1 if np.dot([x1, x2], or_w) >= or_t else 0\n",
        "    nand_out = 1 if np.dot([x1, x2], nand_w) >= nand_t else 0\n",
        "    xor_out = 1 if np.dot([or_out, nand_out], and_w) >= and_t else 0\n",
        "    return xor_out\n",
        "\n",
        "print(\"\\ntesting xor gate with calculated weights and thresholds:\")\n",
        "print(\"xor(0, 0):\", xor(0, 0))\n",
        "print(\"xor(0, 1):\", xor(0, 1))\n",
        "print(\"xor(1, 0):\", xor(1, 0))\n",
        "print(\"xor(1, 1):\", xor(1, 1))\n",
        ""
      ],
      "metadata": {
        "colab": {
          "base_uri": "https://localhost:8080/"
        },
        "id": "c4s-nLIBcwzc",
        "outputId": "f425550a-6ea8-46cd-83c5-990ae99f8c07"
      },
      "execution_count": 7,
      "outputs": [
        {
          "output_type": "stream",
          "name": "stdout",
          "text": [
            "and gate - weights: [0.31667133 0.57143915] threshold: 0.7368964229562949\n",
            "or gate - weights: [0.3476593  0.37862991] threshold: 0.24753922065928866\n",
            "not gate - weights: [-0.04432386] threshold: -0.002300857258309058\n",
            "nand gate - weights: [-0.04529388 -0.19051185] threshold: -0.2044045467987571\n",
            "nor gate - weights: [-0.13349511 -0.09300186] threshold: -0.054700194785066936\n",
            "and(1, 1): 1\n",
            "and(1, 0): 0\n",
            "or(1, 0): 1\n",
            "or(0, 0): 0\n",
            "not(1): 0\n",
            "not(0): 1\n",
            "nand(1, 1): 0\n",
            "nand(1, 0): 1\n",
            "nor(0, 0): 1\n",
            "nor(1, 0): 0\n",
            "\n",
            "testing xor gate with calculated weights and thresholds:\n",
            "xor(0, 0): 0\n",
            "xor(0, 1): 1\n",
            "xor(1, 0): 1\n",
            "xor(1, 1): 0\n"
          ]
        }
      ]
    },
    {
      "cell_type": "code",
      "source": [],
      "metadata": {
        "id": "lZdBDDosdIvg"
      },
      "execution_count": null,
      "outputs": []
    },
    {
      "cell_type": "code",
      "source": [],
      "metadata": {
        "id": "vAu_PTwsdIyC"
      },
      "execution_count": null,
      "outputs": []
    },
    {
      "cell_type": "code",
      "source": [],
      "metadata": {
        "id": "W6C8YEEUdI1C"
      },
      "execution_count": null,
      "outputs": []
    },
    {
      "cell_type": "code",
      "source": [],
      "metadata": {
        "id": "ybjzJOGxdI4j"
      },
      "execution_count": null,
      "outputs": []
    },
    {
      "cell_type": "code",
      "source": [],
      "metadata": {
        "id": "oOURJeiCcw26"
      },
      "execution_count": null,
      "outputs": []
    }
  ]
}